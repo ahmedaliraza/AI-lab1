{
 "cells": [
  {
   "cell_type": "code",
   "execution_count": 3,
   "metadata": {
    "collapsed": false
   },
   "outputs": [
    {
     "name": "stderr",
     "output_type": "stream",
     "text": [
      "Using TensorFlow backend.\n"
     ]
    }
   ],
   "source": [
    "import numpy\n",
    "import matplotlib.pyplot as plt\n",
    "import pandas\n",
    "import math\n",
    "from keras.models import Sequential\n",
    "from keras.layers import Dense\n",
    "from keras.layers import LSTM\n",
    "from sklearn.preprocessing import MinMaxScaler\n",
    "from sklearn.metrics import mean_squared_error"
   ]
  },
  {
   "cell_type": "code",
   "execution_count": 20,
   "metadata": {
    "collapsed": false
   },
   "outputs": [],
   "source": [
    "# load the dataset\n",
    "dataframe = pandas.read_csv('international-airline-passengers.csv', usecols=[1], engine='python', skipfooter=3)\n",
    "dataset = dataframe.values\n",
    "dataset = dataset.astype('float32')"
   ]
  },
  {
   "cell_type": "code",
   "execution_count": 21,
   "metadata": {
    "collapsed": false
   },
   "outputs": [],
   "source": [
    "scaler = MinMaxScaler(feature_range=(0, 1))\n",
    "dataset = scaler.fit_transform(dataset)"
   ]
  },
  {
   "cell_type": "code",
   "execution_count": 22,
   "metadata": {
    "collapsed": false
   },
   "outputs": [
    {
     "name": "stdout",
     "output_type": "stream",
     "text": [
      "95 48\n"
     ]
    }
   ],
   "source": [
    "# split into train and test sets\n",
    "train_size = int(len(dataset) * 0.67)\n",
    "test_size = len(dataset) - train_size\n",
    "train, test = dataset[0:train_size,:], dataset[train_size:len(dataset),:]\n",
    "print(len(train), len(test))"
   ]
  },
  {
   "cell_type": "code",
   "execution_count": 23,
   "metadata": {
    "collapsed": true
   },
   "outputs": [],
   "source": [
    "# convert an array of values into a dataset matrix\n",
    "def create_dataset(dataset, look_back=1):\n",
    "\tdataX, dataY = [], []\n",
    "\tfor i in range(len(dataset)-look_back-1):\n",
    "\t\ta = dataset[i:(i+look_back), 0]\n",
    "\t\tdataX.append(a)\n",
    "\t\tdataY.append(dataset[i + look_back, 0])\n",
    "\treturn numpy.array(dataX), numpy.array(dataY)"
   ]
  },
  {
   "cell_type": "code",
   "execution_count": 24,
   "metadata": {
    "collapsed": true
   },
   "outputs": [],
   "source": [
    "look_back = 5\n",
    "trainX, trainY = create_dataset(train, look_back)\n",
    "testX, testY = create_dataset(test, look_back)"
   ]
  },
  {
   "cell_type": "code",
   "execution_count": 25,
   "metadata": {
    "collapsed": false
   },
   "outputs": [
    {
     "data": {
      "text/plain": [
       "array([[0.01544401, 0.02702703, 0.05405405, 0.04826255, 0.03281853],\n",
       "       [0.02702703, 0.05405405, 0.04826255, 0.03281853, 0.05984557],\n",
       "       [0.05405405, 0.04826255, 0.03281853, 0.05984557, 0.08494207],\n",
       "       [0.04826255, 0.03281853, 0.05984557, 0.08494207, 0.08494207],\n",
       "       [0.03281853, 0.05984557, 0.08494207, 0.08494207, 0.06177607],\n",
       "       [0.05984557, 0.08494207, 0.08494207, 0.06177607, 0.02895753],\n",
       "       [0.08494207, 0.08494207, 0.06177607, 0.02895753, 0.        ],\n",
       "       [0.08494207, 0.06177607, 0.02895753, 0.        , 0.02702703],\n",
       "       [0.06177607, 0.02895753, 0.        , 0.02702703, 0.02123553],\n",
       "       [0.02895753, 0.        , 0.02702703, 0.02123553, 0.04247104],\n",
       "       [0.        , 0.02702703, 0.02123553, 0.04247104, 0.07142857],\n",
       "       [0.02702703, 0.02123553, 0.04247104, 0.07142857, 0.05984557],\n",
       "       [0.02123553, 0.04247104, 0.07142857, 0.05984557, 0.04054055],\n",
       "       [0.04247104, 0.07142857, 0.05984557, 0.04054055, 0.08687258],\n",
       "       [0.07142857, 0.05984557, 0.04054055, 0.08687258, 0.12741312],\n",
       "       [0.05984557, 0.04054055, 0.08687258, 0.12741312, 0.12741312],\n",
       "       [0.04054055, 0.08687258, 0.12741312, 0.12741312, 0.10424709],\n",
       "       [0.08687258, 0.12741312, 0.12741312, 0.10424709, 0.05598456],\n",
       "       [0.12741312, 0.12741312, 0.10424709, 0.05598456, 0.01930502],\n",
       "       [0.12741312, 0.10424709, 0.05598456, 0.01930502, 0.06949806],\n",
       "       [0.10424709, 0.05598456, 0.01930502, 0.06949806, 0.07915059],\n",
       "       [0.05598456, 0.01930502, 0.06949806, 0.07915059, 0.08880308],\n",
       "       [0.01930502, 0.06949806, 0.07915059, 0.08880308, 0.14285713],\n",
       "       [0.06949806, 0.07915059, 0.08880308, 0.14285713, 0.11389962],\n",
       "       [0.07915059, 0.08880308, 0.14285713, 0.11389962, 0.13127413],\n",
       "       [0.08880308, 0.14285713, 0.11389962, 0.13127413, 0.14285713],\n",
       "       [0.14285713, 0.11389962, 0.13127413, 0.14285713, 0.18339768],\n",
       "       [0.11389962, 0.13127413, 0.14285713, 0.18339768, 0.18339768],\n",
       "       [0.13127413, 0.14285713, 0.18339768, 0.18339768, 0.15444016],\n",
       "       [0.14285713, 0.18339768, 0.18339768, 0.15444016, 0.11196911],\n",
       "       [0.18339768, 0.18339768, 0.15444016, 0.11196911, 0.08108109],\n",
       "       [0.18339768, 0.15444016, 0.11196911, 0.08108109, 0.1196911 ],\n",
       "       [0.15444016, 0.11196911, 0.08108109, 0.1196911 , 0.12934363],\n",
       "       [0.11196911, 0.08108109, 0.1196911 , 0.12934363, 0.14671814],\n",
       "       [0.08108109, 0.1196911 , 0.12934363, 0.14671814, 0.17181468],\n",
       "       [0.1196911 , 0.12934363, 0.14671814, 0.17181468, 0.14864865],\n",
       "       [0.12934363, 0.14671814, 0.17181468, 0.14864865, 0.15250966],\n",
       "       [0.14671814, 0.17181468, 0.14864865, 0.15250966, 0.22007722],\n",
       "       [0.17181468, 0.14864865, 0.15250966, 0.22007722, 0.24324325],\n",
       "       [0.14864865, 0.15250966, 0.22007722, 0.24324325, 0.26640925],\n",
       "       [0.15250966, 0.22007722, 0.24324325, 0.26640925, 0.2027027 ],\n",
       "       [0.22007722, 0.24324325, 0.26640925, 0.2027027 , 0.16795367],\n",
       "       [0.24324325, 0.26640925, 0.2027027 , 0.16795367, 0.13127413],\n",
       "       [0.26640925, 0.2027027 , 0.16795367, 0.13127413, 0.17374519],\n",
       "       [0.2027027 , 0.16795367, 0.13127413, 0.17374519, 0.17760617],\n",
       "       [0.16795367, 0.13127413, 0.17374519, 0.17760617, 0.17760617],\n",
       "       [0.13127413, 0.17374519, 0.17760617, 0.17760617, 0.25482625],\n",
       "       [0.17374519, 0.17760617, 0.17760617, 0.25482625, 0.25289574],\n",
       "       [0.17760617, 0.17760617, 0.25482625, 0.25289574, 0.24131274],\n",
       "       [0.17760617, 0.25482625, 0.25289574, 0.24131274, 0.26833975],\n",
       "       [0.25482625, 0.25289574, 0.24131274, 0.26833975, 0.3088803 ],\n",
       "       [0.25289574, 0.24131274, 0.26833975, 0.3088803 , 0.32432434],\n",
       "       [0.24131274, 0.26833975, 0.3088803 , 0.32432434, 0.25675675],\n",
       "       [0.26833975, 0.3088803 , 0.32432434, 0.25675675, 0.20656371],\n",
       "       [0.3088803 , 0.32432434, 0.25675675, 0.20656371, 0.14671814],\n",
       "       [0.32432434, 0.25675675, 0.20656371, 0.14671814, 0.18725869],\n",
       "       [0.25675675, 0.20656371, 0.14671814, 0.18725869, 0.19305018],\n",
       "       [0.20656371, 0.14671814, 0.18725869, 0.19305018, 0.16216215],\n",
       "       [0.14671814, 0.18725869, 0.19305018, 0.16216215, 0.25289574],\n",
       "       [0.18725869, 0.19305018, 0.16216215, 0.25289574, 0.23745173],\n",
       "       [0.19305018, 0.16216215, 0.25289574, 0.23745173, 0.25096524],\n",
       "       [0.16216215, 0.25289574, 0.23745173, 0.25096524, 0.3088803 ],\n",
       "       [0.25289574, 0.23745173, 0.25096524, 0.3088803 , 0.38223937],\n",
       "       [0.23745173, 0.25096524, 0.3088803 , 0.38223937, 0.36486486],\n",
       "       [0.25096524, 0.3088803 , 0.38223937, 0.36486486, 0.2992278 ],\n",
       "       [0.3088803 , 0.38223937, 0.36486486, 0.2992278 , 0.24131274],\n",
       "       [0.38223937, 0.36486486, 0.2992278 , 0.24131274, 0.1911197 ],\n",
       "       [0.36486486, 0.2992278 , 0.24131274, 0.1911197 , 0.24131274],\n",
       "       [0.2992278 , 0.24131274, 0.1911197 , 0.24131274, 0.26640925],\n",
       "       [0.24131274, 0.1911197 , 0.24131274, 0.26640925, 0.24903473],\n",
       "       [0.1911197 , 0.24131274, 0.26640925, 0.24903473, 0.31467178],\n",
       "       [0.24131274, 0.26640925, 0.24903473, 0.31467178, 0.3185328 ],\n",
       "       [0.26640925, 0.24903473, 0.31467178, 0.3185328 , 0.32046333],\n",
       "       [0.24903473, 0.31467178, 0.3185328 , 0.32046333, 0.4073359 ],\n",
       "       [0.31467178, 0.3185328 , 0.32046333, 0.4073359 , 0.5019305 ],\n",
       "       [0.3185328 , 0.32046333, 0.4073359 , 0.5019305 , 0.46911195],\n",
       "       [0.32046333, 0.4073359 , 0.5019305 , 0.46911195, 0.40154442],\n",
       "       [0.4073359 , 0.5019305 , 0.46911195, 0.40154442, 0.32818535],\n",
       "       [0.5019305 , 0.46911195, 0.40154442, 0.32818535, 0.25675675],\n",
       "       [0.46911195, 0.40154442, 0.32818535, 0.25675675, 0.3359073 ],\n",
       "       [0.40154442, 0.32818535, 0.25675675, 0.3359073 , 0.34749034],\n",
       "       [0.32818535, 0.25675675, 0.3359073 , 0.34749034, 0.33397684],\n",
       "       [0.25675675, 0.3359073 , 0.34749034, 0.33397684, 0.41119692],\n",
       "       [0.3359073 , 0.34749034, 0.33397684, 0.41119692, 0.4034749 ],\n",
       "       [0.34749034, 0.33397684, 0.41119692, 0.4034749 , 0.4131274 ],\n",
       "       [0.33397684, 0.41119692, 0.4034749 , 0.4131274 , 0.52123547],\n",
       "       [0.41119692, 0.4034749 , 0.4131274 , 0.52123547, 0.5965251 ],\n",
       "       [0.4034749 , 0.4131274 , 0.52123547, 0.5965251 , 0.58108103],\n",
       "       [0.4131274 , 0.52123547, 0.5965251 , 0.58108103, 0.484556  ]],\n",
       "      dtype=float32)"
      ]
     },
     "execution_count": 25,
     "metadata": {},
     "output_type": "execute_result"
    }
   ],
   "source": [
    "trainX"
   ]
  },
  {
   "cell_type": "code",
   "execution_count": 26,
   "metadata": {
    "collapsed": true
   },
   "outputs": [],
   "source": [
    "# reshape input to be [samples, time steps, features]\n",
    "trainX = numpy.reshape(trainX, (trainX.shape[0], 1, trainX.shape[1]))\n",
    "testX = numpy.reshape(testX, (testX.shape[0], 1, testX.shape[1]))"
   ]
  },
  {
   "cell_type": "code",
   "execution_count": 27,
   "metadata": {
    "collapsed": false
   },
   "outputs": [
    {
     "name": "stdout",
     "output_type": "stream",
     "text": [
      "Epoch 1/100\n",
      " - 1s - loss: 0.0455\n",
      "Epoch 2/100\n",
      " - 0s - loss: 0.0120\n",
      "Epoch 3/100\n",
      " - 0s - loss: 0.0093\n",
      "Epoch 4/100\n",
      " - 0s - loss: 0.0075\n",
      "Epoch 5/100\n",
      " - 0s - loss: 0.0064\n",
      "Epoch 6/100\n",
      " - 0s - loss: 0.0056\n",
      "Epoch 7/100\n",
      " - 0s - loss: 0.0050\n",
      "Epoch 8/100\n",
      " - 0s - loss: 0.0047\n",
      "Epoch 9/100\n",
      " - 0s - loss: 0.0044\n",
      "Epoch 10/100\n",
      " - 0s - loss: 0.0043\n",
      "Epoch 11/100\n",
      " - 0s - loss: 0.0042\n",
      "Epoch 12/100\n",
      " - 0s - loss: 0.0041\n",
      "Epoch 13/100\n",
      " - 0s - loss: 0.0041\n",
      "Epoch 14/100\n",
      " - 0s - loss: 0.0040\n",
      "Epoch 15/100\n",
      " - 0s - loss: 0.0038\n",
      "Epoch 16/100\n",
      " - 0s - loss: 0.0036\n",
      "Epoch 17/100\n",
      " - 0s - loss: 0.0038\n",
      "Epoch 18/100\n",
      " - 0s - loss: 0.0036\n",
      "Epoch 19/100\n",
      " - 0s - loss: 0.0034\n",
      "Epoch 20/100\n",
      " - 0s - loss: 0.0034\n",
      "Epoch 21/100\n",
      " - 0s - loss: 0.0034\n",
      "Epoch 22/100\n",
      " - 0s - loss: 0.0033\n",
      "Epoch 23/100\n",
      " - 0s - loss: 0.0033\n",
      "Epoch 24/100\n",
      " - 0s - loss: 0.0030\n",
      "Epoch 25/100\n",
      " - 0s - loss: 0.0031\n",
      "Epoch 26/100\n",
      " - 0s - loss: 0.0031\n",
      "Epoch 27/100\n",
      " - 0s - loss: 0.0030\n",
      "Epoch 28/100\n",
      " - 0s - loss: 0.0029\n",
      "Epoch 29/100\n",
      " - 0s - loss: 0.0030\n",
      "Epoch 30/100\n",
      " - 0s - loss: 0.0028\n",
      "Epoch 31/100\n",
      " - 0s - loss: 0.0027\n",
      "Epoch 32/100\n",
      " - 0s - loss: 0.0027\n",
      "Epoch 33/100\n",
      " - 0s - loss: 0.0027\n",
      "Epoch 34/100\n",
      " - 0s - loss: 0.0026\n",
      "Epoch 35/100\n",
      " - 0s - loss: 0.0026\n",
      "Epoch 36/100\n",
      " - 0s - loss: 0.0026\n",
      "Epoch 37/100\n",
      " - 0s - loss: 0.0026\n",
      "Epoch 38/100\n",
      " - 0s - loss: 0.0025\n",
      "Epoch 39/100\n",
      " - 0s - loss: 0.0026\n",
      "Epoch 40/100\n",
      " - 0s - loss: 0.0023\n",
      "Epoch 41/100\n",
      " - 0s - loss: 0.0023\n",
      "Epoch 42/100\n",
      " - 0s - loss: 0.0023\n",
      "Epoch 43/100\n",
      " - 0s - loss: 0.0021\n",
      "Epoch 44/100\n",
      " - 0s - loss: 0.0024\n",
      "Epoch 45/100\n",
      " - 0s - loss: 0.0022\n",
      "Epoch 46/100\n",
      " - 0s - loss: 0.0021\n",
      "Epoch 47/100\n",
      " - 0s - loss: 0.0021\n",
      "Epoch 48/100\n",
      " - 0s - loss: 0.0021\n",
      "Epoch 49/100\n",
      " - 0s - loss: 0.0021\n",
      "Epoch 50/100\n",
      " - 0s - loss: 0.0021\n",
      "Epoch 51/100\n",
      " - 0s - loss: 0.0019\n",
      "Epoch 52/100\n",
      " - 0s - loss: 0.0019\n",
      "Epoch 53/100\n",
      " - 0s - loss: 0.0021\n",
      "Epoch 54/100\n",
      " - 0s - loss: 0.0020\n",
      "Epoch 55/100\n",
      " - 0s - loss: 0.0020\n",
      "Epoch 56/100\n",
      " - 0s - loss: 0.0020\n",
      "Epoch 57/100\n",
      " - 0s - loss: 0.0018\n",
      "Epoch 58/100\n",
      " - 0s - loss: 0.0022\n",
      "Epoch 59/100\n",
      " - 0s - loss: 0.0020\n",
      "Epoch 60/100\n",
      " - 0s - loss: 0.0020\n",
      "Epoch 61/100\n",
      " - 0s - loss: 0.0022\n",
      "Epoch 62/100\n",
      " - 0s - loss: 0.0019\n",
      "Epoch 63/100\n",
      " - 0s - loss: 0.0020\n",
      "Epoch 64/100\n",
      " - 0s - loss: 0.0018\n",
      "Epoch 65/100\n",
      " - 0s - loss: 0.0018\n",
      "Epoch 66/100\n",
      " - 0s - loss: 0.0018\n",
      "Epoch 67/100\n",
      " - 0s - loss: 0.0018\n",
      "Epoch 68/100\n",
      " - 0s - loss: 0.0019\n",
      "Epoch 69/100\n",
      " - 0s - loss: 0.0019\n",
      "Epoch 70/100\n",
      " - 0s - loss: 0.0018\n",
      "Epoch 71/100\n",
      " - 0s - loss: 0.0019\n",
      "Epoch 72/100\n",
      " - 0s - loss: 0.0018\n",
      "Epoch 73/100\n",
      " - 0s - loss: 0.0019\n",
      "Epoch 74/100\n",
      " - 0s - loss: 0.0019\n",
      "Epoch 75/100\n",
      " - 0s - loss: 0.0018\n",
      "Epoch 76/100\n",
      " - 0s - loss: 0.0019\n",
      "Epoch 77/100\n",
      " - 0s - loss: 0.0019\n",
      "Epoch 78/100\n",
      " - 0s - loss: 0.0018\n",
      "Epoch 79/100\n",
      " - 0s - loss: 0.0019\n",
      "Epoch 80/100\n",
      " - 0s - loss: 0.0018\n",
      "Epoch 81/100\n",
      " - 0s - loss: 0.0018\n",
      "Epoch 82/100\n",
      " - 0s - loss: 0.0019\n",
      "Epoch 83/100\n",
      " - 0s - loss: 0.0018\n",
      "Epoch 84/100\n",
      " - 0s - loss: 0.0017\n",
      "Epoch 85/100\n",
      " - 0s - loss: 0.0019\n",
      "Epoch 86/100\n",
      " - 0s - loss: 0.0019\n",
      "Epoch 87/100\n",
      " - 0s - loss: 0.0018\n",
      "Epoch 88/100\n",
      " - 0s - loss: 0.0019\n",
      "Epoch 89/100\n",
      " - 0s - loss: 0.0017\n",
      "Epoch 90/100\n",
      " - 0s - loss: 0.0017\n",
      "Epoch 91/100\n",
      " - 0s - loss: 0.0018\n",
      "Epoch 92/100\n",
      " - 0s - loss: 0.0018\n",
      "Epoch 93/100\n",
      " - 0s - loss: 0.0017\n",
      "Epoch 94/100\n",
      " - 0s - loss: 0.0018\n",
      "Epoch 95/100\n",
      " - 0s - loss: 0.0018\n",
      "Epoch 96/100\n",
      " - 0s - loss: 0.0019\n",
      "Epoch 97/100\n",
      " - 0s - loss: 0.0017\n",
      "Epoch 98/100\n",
      " - 0s - loss: 0.0018\n",
      "Epoch 99/100\n",
      " - 0s - loss: 0.0019\n",
      "Epoch 100/100\n",
      " - 0s - loss: 0.0016\n"
     ]
    },
    {
     "data": {
      "text/plain": [
       "<keras.callbacks.History at 0x2f02d784978>"
      ]
     },
     "execution_count": 27,
     "metadata": {},
     "output_type": "execute_result"
    }
   ],
   "source": [
    "model = Sequential()\n",
    "model.add(LSTM(20, input_shape=(1, look_back)))\n",
    "model.add(Dense(1))\n",
    "model.compile(loss='mean_squared_error', optimizer='adam')\n",
    "model.fit(trainX, trainY, epochs=100, batch_size=1, verbose=2)"
   ]
  },
  {
   "cell_type": "code",
   "execution_count": 28,
   "metadata": {
    "collapsed": false
   },
   "outputs": [
    {
     "name": "stdout",
     "output_type": "stream",
     "text": [
      "Train Score: 21.28 RMSE\n",
      "Test Score: 54.84 RMSE\n"
     ]
    }
   ],
   "source": [
    "trainPredict = model.predict(trainX)\n",
    "testPredict = model.predict(testX)\n",
    "# invert predictions\n",
    "trainPredict = scaler.inverse_transform(trainPredict)\n",
    "trainY = scaler.inverse_transform([trainY])\n",
    "testPredict = scaler.inverse_transform(testPredict)\n",
    "testY = scaler.inverse_transform([testY])\n",
    "# calculate root mean squared error\n",
    "trainScore = math.sqrt(mean_squared_error(trainY[0], trainPredict[:,0]))\n",
    "print('Train Score: %.2f RMSE' % (trainScore))\n",
    "testScore = math.sqrt(mean_squared_error(testY[0], testPredict[:,0]))\n",
    "print('Test Score: %.2f RMSE' % (testScore))"
   ]
  },
  {
   "cell_type": "code",
   "execution_count": null,
   "metadata": {
    "collapsed": true
   },
   "outputs": [],
   "source": []
  }
 ],
 "metadata": {
  "anaconda-cloud": {},
  "kernelspec": {
   "display_name": "Python [Root]",
   "language": "python",
   "name": "Python [Root]"
  },
  "language_info": {
   "codemirror_mode": {
    "name": "ipython",
    "version": 3
   },
   "file_extension": ".py",
   "mimetype": "text/x-python",
   "name": "python",
   "nbconvert_exporter": "python",
   "pygments_lexer": "ipython3",
   "version": "3.5.2"
  }
 },
 "nbformat": 4,
 "nbformat_minor": 0
}

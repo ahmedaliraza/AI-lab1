{
 "cells": [
  {
   "cell_type": "code",
   "execution_count": null,
   "metadata": {
    "collapsed": true
   },
   "outputs": [],
   "source": [
    "class shape:\n",
    "    def __init__(self):\n",
    "        print(\"shape constructor called\")\n",
    "    @staticmethod\n",
    "    def printType():\n",
    "        print(\"shape\")\n",
    "\n",
    "        class Rectangle(shape):\n",
    "            def __init__(self):\n",
    "                super().__init__()\n",
    "                self.lenght=0\n",
    "                self.width=0\n",
    "                def draw(self):\n",
    "                    print(\"draw rectangle\")\n",
    "\n",
    "                    class triangle(shape):\n",
    "                        def __init__(self):\n",
    "                            super().__init__()\n",
    "                            self.a = 0\n",
    "                            self.b = 0\n",
    "                            self.c=0\n",
    "\n",
    "                            def draw(self):\n",
    "                                print(\"draw triangle\")"
   ]
  },
  {
   "cell_type": "code",
   "execution_count": null,
   "metadata": {},
   "outputs": [],
   "source": [
    ""
   ]
  },
  {
   "cell_type": "code",
   "execution_count": null,
   "metadata": {},
   "outputs": [],
   "source": [
    ""
   ]
  }
 ],
 "metadata": {
  "kernelspec": {
   "display_name": "Python 2",
   "language": "python",
   "name": "python2"
  },
  "language_info": {
   "codemirror_mode": {
    "name": "ipython",
    "version": 2.0
   },
   "file_extension": ".py",
   "mimetype": "text/x-python",
   "name": "python",
   "nbconvert_exporter": "python",
   "pygments_lexer": "ipython2",
   "version": "2.7.6"
  }
 },
 "nbformat": 4,
 "nbformat_minor": 0
}